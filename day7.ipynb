{
 "cells": [
  {
   "cell_type": "code",
   "execution_count": 60,
   "metadata": {},
   "outputs": [],
   "source": [
    "from copy import deepcopy\n",
    "from itertools import permutations"
   ]
  },
  {
   "cell_type": "code",
   "execution_count": 1,
   "metadata": {},
   "outputs": [],
   "source": [
    "def parameters(n):\n",
    "    return [int(n/10000),int((n-int(n/10000)*10000)/1000),int((n-int(n/1000)*1000)/100)][::-1]"
   ]
  },
  {
   "cell_type": "code",
   "execution_count": 140,
   "metadata": {},
   "outputs": [],
   "source": [
    "def opcode(l,offset=0,input_value=0):\n",
    "    code=l[0+offset]\n",
    "    basecode=int(str(code)[-2:])\n",
    "    p=parameters(code)\n",
    "    if basecode in (1,2,3,4,5,6,7,8):\n",
    "        if p[0]==1:\n",
    "            p0=1+offset\n",
    "        else:\n",
    "            p0=l[1+offset]\n",
    "    if basecode in (1,2,5,6,7,8):\n",
    "        if p[1]==1:\n",
    "            p1=2+offset\n",
    "        else:\n",
    "            p1=l[2+offset]\n",
    "        if p[2]==1:\n",
    "            p2=3+offset\n",
    "        else:\n",
    "            p2=l[3+offset]\n",
    "    if basecode==99:\n",
    "        print('HALT')\n",
    "        return l\n",
    "    elif basecode==1:\n",
    "        l[p2]=l[p0]+l[p1]\n",
    "        return opcode(l,offset+4,input_value) \n",
    "    elif basecode==2:\n",
    "        l[p2]=l[p0]*l[p1]\n",
    "        return opcode(l,offset+4,input_value)\n",
    "    elif basecode==3:\n",
    "        l[p0]=input_value.pop()\n",
    "        return opcode(l,offset+2,input_value)\n",
    "    elif basecode==4:\n",
    "        output=l[p0]\n",
    "        print(l,offset)\n",
    "        return output#opcode(l,offset+2,input_value)   \n",
    "    elif basecode==5:\n",
    "        if l[p0]!=0:\n",
    "            return opcode(l,l[p1],input_value)\n",
    "        else:\n",
    "            return opcode(l,offset+3,input_value)\n",
    "    elif basecode==6:\n",
    "        if l[p0]==0:\n",
    "            return opcode(l,l[p1],input_value)\n",
    "        else:\n",
    "            return opcode(l,offset+3,input_value)\n",
    "    elif basecode==7:\n",
    "        if l[p0]<l[p1]:\n",
    "            l[p2]=1\n",
    "        else:\n",
    "            l[p2]=0\n",
    "        return opcode(l,offset+4,input_value)\n",
    "    elif basecode==8:\n",
    "        if l[p0]==l[p1]:\n",
    "            l[p2]=1\n",
    "        else:\n",
    "            l[p2]=0\n",
    "        return opcode(l,offset+4,input_value)    \n",
    "    else:\n",
    "        print('SOMETHING UNEXPECTED',offset,code,l[offset],l[offset+1])\n",
    "        return(l)"
   ]
  },
  {
   "cell_type": "markdown",
   "metadata": {},
   "source": [
    "Max thruster signal 43210 (from phase setting sequence 4,3,2,1,0):\n",
    "\n",
    "3,15,3,16,1002,16,10,16,1,16,15,15,4,15,99,0,0"
   ]
  },
  {
   "cell_type": "code",
   "execution_count": 107,
   "metadata": {},
   "outputs": [],
   "source": [
    "def test_seq(instr,seq,output_value=0):\n",
    "    if seq==[]:\n",
    "        return output_value\n",
    "    else:\n",
    "        i=deepcopy(instr)\n",
    "        #print('opcode',(i,[output_value,seq[0]]))\n",
    "        return test_seq(instr,seq[1:],opcode(i,input_value=[output_value,seq[0]]))"
   ]
  },
  {
   "cell_type": "code",
   "execution_count": 108,
   "metadata": {},
   "outputs": [],
   "source": [
    "def test_all(instr):\n",
    "    maxout=0\n",
    "    for s in permutations([0,1,2,3,4],5):\n",
    "        i2=deepcopy(instr)\n",
    "        #print('test_seq',i2,s)\n",
    "        o=test_seq(i2,list(s))\n",
    "        if o>maxout:\n",
    "            maxout=o\n",
    "    return maxout"
   ]
  },
  {
   "cell_type": "code",
   "execution_count": 109,
   "metadata": {},
   "outputs": [],
   "source": [
    "test1=[3,15,3,16,1002,16,10,16,1,16,15,15,4,15,99,0,0]"
   ]
  },
  {
   "cell_type": "code",
   "execution_count": 110,
   "metadata": {},
   "outputs": [
    {
     "data": {
      "text/plain": [
       "43210"
      ]
     },
     "execution_count": 110,
     "metadata": {},
     "output_type": "execute_result"
    }
   ],
   "source": [
    "test_all(test1)"
   ]
  },
  {
   "cell_type": "markdown",
   "metadata": {},
   "source": [
    "Max thruster signal 54321 (from phase setting sequence 0,1,2,3,4):\n",
    "\n",
    "3,23,3,24,1002,24,10,24,1002,23,-1,23,\n",
    "101,5,23,23,1,24,23,23,4,23,99,0,0\n",
    "Max thruster signal 65210 (from phase setting sequence 1,0,4,3,2):\n",
    "\n",
    "3,31,3,32,1002,32,10,32,1001,31,-2,31,1007,31,0,33,\n",
    "1002,33,7,33,1,33,31,31,1,32,31,31,4,31,99,0,0,0"
   ]
  },
  {
   "cell_type": "code",
   "execution_count": 111,
   "metadata": {},
   "outputs": [],
   "source": [
    "test2=[3,23,3,24,1002,24,10,24,1002,23,-1,23, 101,5,23,23,1,24,23,23,4,23,99,0,0]"
   ]
  },
  {
   "cell_type": "code",
   "execution_count": 112,
   "metadata": {},
   "outputs": [
    {
     "data": {
      "text/plain": [
       "54321"
      ]
     },
     "execution_count": 112,
     "metadata": {},
     "output_type": "execute_result"
    }
   ],
   "source": [
    "test_all(test2)"
   ]
  },
  {
   "cell_type": "code",
   "execution_count": 113,
   "metadata": {},
   "outputs": [],
   "source": [
    "test3=[3,31,3,32,1002,32,10,32,1001,31,-2,31,1007,31,0,33, 1002,33,7,33,1,33,31,31,1,32,31,31,4,31,99,0,0,0]"
   ]
  },
  {
   "cell_type": "code",
   "execution_count": 114,
   "metadata": {},
   "outputs": [
    {
     "data": {
      "text/plain": [
       "65210"
      ]
     },
     "execution_count": 114,
     "metadata": {},
     "output_type": "execute_result"
    }
   ],
   "source": [
    "test_all(test3)"
   ]
  },
  {
   "cell_type": "code",
   "execution_count": 125,
   "metadata": {},
   "outputs": [],
   "source": [
    "day7_input=[3,8,1001,8,10,8,105,1,0,0,21,42,63,76,101,114,195,276,357,438,99999,3,9,101,2,9,9,102,5,9,9,1001,9,3,9,1002,9,5,9,4,9,99,3,9,101,4,9,9,102,5,9,9,1001,9,5,9,102,2,9,9,4,9,99,3,9,1001,9,3,9,1002,9,5,9,4,9,99,3,9,1002,9,2,9,101,5,9,9,102,3,9,9,101,2,9,9,1002,9,3,9,4,9,99,3,9,101,3,9,9,102,2,9,9,4,9,99,3,9,1001,9,2,9,4,9,3,9,102,2,9,9,4,9,3,9,101,2,9,9,4,9,3,9,102,2,9,9,4,9,3,9,101,1,9,9,4,9,3,9,1001,9,2,9,4,9,3,9,1001,9,1,9,4,9,3,9,1001,9,2,9,4,9,3,9,1001,9,2,9,4,9,3,9,1001,9,1,9,4,9,99,3,9,102,2,9,9,4,9,3,9,1001,9,2,9,4,9,3,9,102,2,9,9,4,9,3,9,1002,9,2,9,4,9,3,9,1001,9,1,9,4,9,3,9,102,2,9,9,4,9,3,9,1002,9,2,9,4,9,3,9,102,2,9,9,4,9,3,9,1002,9,2,9,4,9,3,9,102,2,9,9,4,9,99,3,9,102,2,9,9,4,9,3,9,102,2,9,9,4,9,3,9,1002,9,2,9,4,9,3,9,1001,9,2,9,4,9,3,9,1002,9,2,9,4,9,3,9,1001,9,1,9,4,9,3,9,1002,9,2,9,4,9,3,9,1002,9,2,9,4,9,3,9,101,2,9,9,4,9,3,9,1001,9,2,9,4,9,99,3,9,1001,9,1,9,4,9,3,9,101,2,9,9,4,9,3,9,102,2,9,9,4,9,3,9,1001,9,2,9,4,9,3,9,1001,9,1,9,4,9,3,9,102,2,9,9,4,9,3,9,1001,9,2,9,4,9,3,9,1001,9,2,9,4,9,3,9,102,2,9,9,4,9,3,9,1001,9,2,9,4,9,99,3,9,102,2,9,9,4,9,3,9,101,1,9,9,4,9,3,9,1002,9,2,9,4,9,3,9,1002,9,2,9,4,9,3,9,1002,9,2,9,4,9,3,9,101,2,9,9,4,9,3,9,1001,9,2,9,4,9,3,9,101,2,9,9,4,9,3,9,1002,9,2,9,4,9,3,9,101,2,9,9,4,9,99]"
   ]
  },
  {
   "cell_type": "code",
   "execution_count": 126,
   "metadata": {},
   "outputs": [
    {
     "data": {
      "text/plain": [
       "255590"
      ]
     },
     "execution_count": 126,
     "metadata": {},
     "output_type": "execute_result"
    }
   ],
   "source": [
    "test_all(day7_input)"
   ]
  },
  {
   "cell_type": "markdown",
   "metadata": {},
   "source": [
    "# Part 2 - with feedback loop (persistent)"
   ]
  },
  {
   "cell_type": "markdown",
   "metadata": {},
   "source": [
    "Max thruster signal 139629729 (from phase setting sequence 9,8,7,6,5):\n",
    "\n",
    "3,26,1001,26,-4,26,3,27,1002,27,2,27,1,27,26,\n",
    "27,4,27,1001,28,-1,28,1005,28,6,99,0,0,5"
   ]
  },
  {
   "cell_type": "code",
   "execution_count": 251,
   "metadata": {},
   "outputs": [],
   "source": [
    "def opcode(l,offset=0,input_value=0):\n",
    "    code=l[0+offset]\n",
    "    basecode=int(str(code)[-2:])\n",
    "    p=parameters(code)\n",
    "    if basecode in (1,2,3,4,5,6,7,8):\n",
    "        if p[0]==1:\n",
    "            p0=1+offset\n",
    "        else:\n",
    "            p0=l[1+offset]\n",
    "    if basecode in (1,2,5,6,7,8):\n",
    "        if p[1]==1:\n",
    "            p1=2+offset\n",
    "        else:\n",
    "            p1=l[2+offset]\n",
    "        if p[2]==1:\n",
    "            p2=3+offset\n",
    "        else:\n",
    "            p2=l[3+offset]\n",
    "    if basecode==99:\n",
    "        #print('HALT')\n",
    "        return ('HALT',l,offset)\n",
    "    elif basecode==1:\n",
    "        l[p2]=l[p0]+l[p1]\n",
    "        return opcode(l,offset+4,input_value) \n",
    "    elif basecode==2:\n",
    "        l[p2]=l[p0]*l[p1]\n",
    "        return opcode(l,offset+4,input_value)\n",
    "    elif basecode==3:\n",
    "        l[p0]=input_value.pop()\n",
    "        return opcode(l,offset+2,input_value)\n",
    "    elif basecode==4:\n",
    "        output=l[p0]\n",
    "        #print('output',output)\n",
    "        return (output,l,offset+2)#opcode(l,offset+2,input_value)   \n",
    "    elif basecode==5:\n",
    "        if l[p0]!=0:\n",
    "            return opcode(l,l[p1],input_value)\n",
    "        else:\n",
    "            return opcode(l,offset+3,input_value)\n",
    "    elif basecode==6:\n",
    "        if l[p0]==0:\n",
    "            return opcode(l,l[p1],input_value)\n",
    "        else:\n",
    "            return opcode(l,offset+3,input_value)\n",
    "    elif basecode==7:\n",
    "        if l[p0]<l[p1]:\n",
    "            l[p2]=1\n",
    "        else:\n",
    "            l[p2]=0\n",
    "        return opcode(l,offset+4,input_value)\n",
    "    elif basecode==8:\n",
    "        if l[p0]==l[p1]:\n",
    "            l[p2]=1\n",
    "        else:\n",
    "            l[p2]=0\n",
    "        return opcode(l,offset+4,input_value)    \n",
    "    else:\n",
    "        print('SOMETHING UNEXPECTED',offset,code,l[offset],l[offset+1])\n",
    "        return(l)"
   ]
  },
  {
   "cell_type": "code",
   "execution_count": 252,
   "metadata": {},
   "outputs": [],
   "source": [
    "test21=[3,26,1001,26,-4,26,3,27,1002,27,2,27,1,27,26,27,4,27,1001,28,-1,28,1005,28,6,99,0,0,5]"
   ]
  },
  {
   "cell_type": "code",
   "execution_count": 253,
   "metadata": {},
   "outputs": [],
   "source": [
    "def init_amps(instr,seq,output_value=0):\n",
    "    amps=[]\n",
    "    if seq==[]:\n",
    "        return []\n",
    "    else:\n",
    "        i=deepcopy(instr)\n",
    "        o=opcode(i,input_value=[output_value,seq[0]])\n",
    "        return amps+[(o[0],o[1],o[2])]+init_amps(instr,seq[1:],o[0])"
   ]
  },
  {
   "cell_type": "code",
   "execution_count": 254,
   "metadata": {},
   "outputs": [],
   "source": [
    "def run_feedback(amps,lastoutput=0):\n",
    "    newamps=[]\n",
    "    output_value=[amps[4][0]]\n",
    "    if output_value==['HALT']:\n",
    "        return lastoutput[0]\n",
    "    else:\n",
    "        lastoutput=output_value\n",
    "    for amp in amps:\n",
    "        o=opcode(amp[1],offset=amp[2],input_value=output_value)\n",
    "        newamps.append([o[0],o[1],o[2]])\n",
    "        output_value=[o[0]]\n",
    "    return run_feedback(newamps,lastoutput)"
   ]
  },
  {
   "cell_type": "code",
   "execution_count": 255,
   "metadata": {},
   "outputs": [],
   "source": [
    "amps=init_amps(test21,[9,8,7,6,5])"
   ]
  },
  {
   "cell_type": "code",
   "execution_count": 256,
   "metadata": {},
   "outputs": [
    {
     "data": {
      "text/plain": [
       "139629729"
      ]
     },
     "execution_count": 256,
     "metadata": {},
     "output_type": "execute_result"
    }
   ],
   "source": [
    "run_feedback(amps)"
   ]
  },
  {
   "cell_type": "code",
   "execution_count": 257,
   "metadata": {},
   "outputs": [],
   "source": [
    "test22=[3,52,1001,52,-5,52,3,53,1,52,56,54,1007,54,5,55,1005,55,26,1001,54,-5,54,1105,1,12,1,53,54,53,1008,54,0,55,1001,55,1,55,2,53,55,53,4,53,1001,56,-1,56,1005,56,6,99,0,0,0,0,10]"
   ]
  },
  {
   "cell_type": "code",
   "execution_count": 282,
   "metadata": {},
   "outputs": [],
   "source": [
    "amps=init_amps(test21,list(list(permutations([5,6,7,8,9],5))[0]))"
   ]
  },
  {
   "cell_type": "code",
   "execution_count": 283,
   "metadata": {},
   "outputs": [
    {
     "data": {
      "text/plain": [
       "61696857"
      ]
     },
     "execution_count": 283,
     "metadata": {},
     "output_type": "execute_result"
    }
   ],
   "source": [
    "run_feedback(amps)"
   ]
  },
  {
   "cell_type": "code",
   "execution_count": 284,
   "metadata": {},
   "outputs": [],
   "source": [
    "def test_all(instr):\n",
    "    maxout=0\n",
    "    for s in permutations([5,6,7,8,9],5):\n",
    "        i2=deepcopy(instr)\n",
    "        try:\n",
    "            amps=init_amps(i2,list(s))\n",
    "            o=run_feedback(amps)\n",
    "            if o>maxout:\n",
    "                maxout=o\n",
    "        except:\n",
    "            pass\n",
    "    return maxout"
   ]
  },
  {
   "cell_type": "code",
   "execution_count": 286,
   "metadata": {},
   "outputs": [
    {
     "data": {
      "text/plain": [
       "139629729"
      ]
     },
     "execution_count": 286,
     "metadata": {},
     "output_type": "execute_result"
    }
   ],
   "source": [
    "test_all(test21)"
   ]
  },
  {
   "cell_type": "code",
   "execution_count": 287,
   "metadata": {},
   "outputs": [],
   "source": [
    "test22=[3,52,1001,52,-5,52,3,53,1,52,56,54,1007,54,5,55,1005,55,26,1001,54,-5,54,1105,1,12,1,53,54,53,1008,54,0,55,1001,55,1,55,2,53,55,53,4,53,1001,56,-1,56,1005,56,6,99,0,0,0,0,10]"
   ]
  },
  {
   "cell_type": "code",
   "execution_count": 288,
   "metadata": {},
   "outputs": [
    {
     "data": {
      "text/plain": [
       "18216"
      ]
     },
     "execution_count": 288,
     "metadata": {},
     "output_type": "execute_result"
    }
   ],
   "source": [
    "test_all(test22)"
   ]
  },
  {
   "cell_type": "code",
   "execution_count": 289,
   "metadata": {},
   "outputs": [
    {
     "data": {
      "text/plain": [
       "58285150"
      ]
     },
     "execution_count": 289,
     "metadata": {},
     "output_type": "execute_result"
    }
   ],
   "source": [
    "test_all(day7_input)"
   ]
  },
  {
   "cell_type": "code",
   "execution_count": null,
   "metadata": {},
   "outputs": [],
   "source": []
  }
 ],
 "metadata": {
  "kernelspec": {
   "display_name": "Python 3",
   "language": "python",
   "name": "python3"
  },
  "language_info": {
   "codemirror_mode": {
    "name": "ipython",
    "version": 3
   },
   "file_extension": ".py",
   "mimetype": "text/x-python",
   "name": "python",
   "nbconvert_exporter": "python",
   "pygments_lexer": "ipython3",
   "version": "3.7.4"
  }
 },
 "nbformat": 4,
 "nbformat_minor": 4
}
